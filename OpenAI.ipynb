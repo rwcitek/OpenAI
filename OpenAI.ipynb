{
  "nbformat": 4,
  "nbformat_minor": 0,
  "metadata": {
    "colab": {
      "provenance": [],
      "authorship_tag": "ABX9TyNQhOOAOoeGbcEHoOdcsxvD",
      "include_colab_link": true
    },
    "kernelspec": {
      "name": "python3",
      "display_name": "Python 3"
    },
    "language_info": {
      "name": "python"
    }
  },
  "cells": [
    {
      "cell_type": "markdown",
      "metadata": {
        "id": "view-in-github",
        "colab_type": "text"
      },
      "source": [
        "<a href=\"https://colab.research.google.com/github/rwcitek/openai/blob/main/OpenAI.ipynb\" target=\"_parent\"><img src=\"https://colab.research.google.com/assets/colab-badge.svg\" alt=\"Open In Colab\"/></a>"
      ]
    },
    {
      "cell_type": "markdown",
      "source": [
        "## Install openai Module"
      ],
      "metadata": {
        "id": "pNZ5OaDPtxgQ"
      }
    },
    {
      "cell_type": "code",
      "source": [
        "%%capture output\n",
        "!pip install openai\n"
      ],
      "metadata": {
        "id": "UzWPlsRGuUa-"
      },
      "execution_count": 1,
      "outputs": []
    },
    {
      "cell_type": "code",
      "source": [
        "import os\n",
        "import openai\n",
        "import getpass\n",
        "import json\n"
      ],
      "metadata": {
        "id": "F196nqR_ucwQ"
      },
      "execution_count": 2,
      "outputs": []
    },
    {
      "cell_type": "markdown",
      "source": [
        "## Capture Organization"
      ],
      "metadata": {
        "id": "w74r0NINtzeF"
      }
    },
    {
      "cell_type": "code",
      "source": [
        "oai_organization = getpass.getpass(\"Enter your OpenAI organization ID: \")\n"
      ],
      "metadata": {
        "colab": {
          "base_uri": "https://localhost:8080/"
        },
        "id": "snla5h8Jukxz",
        "outputId": "6df019f7-204c-4864-8928-a497797d144d"
      },
      "execution_count": 3,
      "outputs": [
        {
          "name": "stdout",
          "output_type": "stream",
          "text": [
            "Enter your OpenAI organization ID: ··········\n"
          ]
        }
      ]
    },
    {
      "cell_type": "code",
      "source": [
        "f\"{oai_organization[:4]} ... {oai_organization[-4:]}\"\n"
      ],
      "metadata": {
        "colab": {
          "base_uri": "https://localhost:8080/",
          "height": 37
        },
        "id": "tmMIpPX9vgRr",
        "outputId": "80f324c2-39ea-4e7b-e0f6-c0795f0eb4cc"
      },
      "execution_count": 4,
      "outputs": [
        {
          "output_type": "execute_result",
          "data": {
            "text/plain": [
              "'org- ... ReOE'"
            ],
            "application/vnd.google.colaboratory.intrinsic+json": {
              "type": "string"
            }
          },
          "metadata": {},
          "execution_count": 4
        }
      ]
    },
    {
      "cell_type": "markdown",
      "source": [
        "# Capture OpenAI API Token"
      ],
      "metadata": {
        "id": "7jm9xaEXtw_O"
      }
    },
    {
      "cell_type": "code",
      "source": [
        "oai_token = getpass.getpass(\"Enter your OpenAI API token: \")\n"
      ],
      "metadata": {
        "id": "EJaRBXQdqG3f",
        "colab": {
          "base_uri": "https://localhost:8080/"
        },
        "outputId": "796f58f9-8762-479b-8981-bddf6ae3ca5b"
      },
      "execution_count": 5,
      "outputs": [
        {
          "name": "stdout",
          "output_type": "stream",
          "text": [
            "Enter your OpenAI API token: ··········\n"
          ]
        }
      ]
    },
    {
      "cell_type": "code",
      "source": [
        "f\"{oai_token[:4]} ... {oai_token[-4:]}\"\n"
      ],
      "metadata": {
        "colab": {
          "base_uri": "https://localhost:8080/",
          "height": 37
        },
        "id": "9GPF_HFZu9OW",
        "outputId": "6df92cf0-11a9-4a2a-d27a-1718a2201d08"
      },
      "execution_count": 6,
      "outputs": [
        {
          "output_type": "execute_result",
          "data": {
            "text/plain": [
              "'sk-O ... Ewji'"
            ],
            "application/vnd.google.colaboratory.intrinsic+json": {
              "type": "string"
            }
          },
          "metadata": {},
          "execution_count": 6
        }
      ]
    },
    {
      "cell_type": "markdown",
      "source": [
        "## Send API request for models"
      ],
      "metadata": {
        "id": "kwngngSfvxsQ"
      }
    },
    {
      "cell_type": "code",
      "source": [
        "openai.organization = oai_organization\n",
        "openai.api_key = oai_token\n",
        "oai_models = openai.Model.list()\n"
      ],
      "metadata": {
        "id": "dxFs8PTHvutS"
      },
      "execution_count": 7,
      "outputs": []
    },
    {
      "cell_type": "code",
      "source": [
        "[ data[\"id\"] for data in oai_models[\"data\"] if \"gpt\" in data[\"id\"] ]\n"
      ],
      "metadata": {
        "colab": {
          "base_uri": "https://localhost:8080/"
        },
        "id": "XP02o1K2yUYD",
        "outputId": "42d92d2d-f6c7-4da0-a962-fe62a63e8082"
      },
      "execution_count": 8,
      "outputs": [
        {
          "output_type": "execute_result",
          "data": {
            "text/plain": [
              "['gpt-3.5-turbo-0301', 'gpt-3.5-turbo']"
            ]
          },
          "metadata": {},
          "execution_count": 8
        }
      ]
    },
    {
      "cell_type": "markdown",
      "source": [
        "## Send a message to GPT-3.5-turbo ( Completions )"
      ],
      "metadata": {
        "id": "H-Hsn8-BzXb_"
      }
    },
    {
      "cell_type": "code",
      "source": [
        "completion = openai.ChatCompletion.create(\n",
        "  model=\"gpt-3.5-turbo\",\n",
        "  messages=[\n",
        "    {\"role\": \"user\", \"content\": \"Hello!\"}\n",
        "  ]\n",
        ")\n",
        "\n",
        "print(completion.choices[0].message[\"content\"])\n"
      ],
      "metadata": {
        "colab": {
          "base_uri": "https://localhost:8080/"
        },
        "id": "zGn9uMs5xmPh",
        "outputId": "6c1fc71e-a7e6-45a3-ba47-925040912c5c"
      },
      "execution_count": 9,
      "outputs": [
        {
          "output_type": "stream",
          "name": "stdout",
          "text": [
            "Hello! How can I assist you today?\n"
          ]
        }
      ]
    },
    {
      "cell_type": "code",
      "source": [
        "completion = openai.ChatCompletion.create(\n",
        "  model=\"gpt-3.5-turbo\",\n",
        "  messages=[\n",
        "    {\"role\": \"user\", \"content\": \"What is the meaning of life?\"}\n",
        "  ]\n",
        ")\n"
      ],
      "metadata": {
        "id": "oD3ixKCTzduv"
      },
      "execution_count": 10,
      "outputs": []
    },
    {
      "cell_type": "code",
      "source": [
        "line = \"\"\n",
        "for token in completion.choices[0].message[\"content\"].split():\n",
        "  line = \" \".join([line,token])\n",
        "  if len(line) > 80:\n",
        "    print(line)\n",
        "    line = \"\"\n",
        "print(line)\n"
      ],
      "metadata": {
        "colab": {
          "base_uri": "https://localhost:8080/"
        },
        "id": "YR8d-9tc135M",
        "outputId": "3e55aa45-21e2-41a2-e072-9ff49e6fe877"
      },
      "execution_count": 11,
      "outputs": [
        {
          "output_type": "stream",
          "name": "stdout",
          "text": [
            " As an AI language model, I don't have personal beliefs and values, but generally,\n",
            " the meaning of life is a philosophical and existential question that has been debated\n",
            " by scholars, thinkers, and individuals throughout history. There are various perspectives,\n",
            " including religious, spiritual, scientific, and philosophical that offer different\n",
            " answers to this question. Some believe that the meaning of life is to seek happiness\n",
            " and pleasure, while others view it as fulfilling a specific purpose or calling. Additionally,\n",
            " some believe that the meaning of life is subjective and can be determined by each\n",
            " individual person. Ultimately, the meaning of life remains a complex and multi-dimensional\n",
            " concept that may vary depending on one's beliefs, values, and cultural background.\n",
            "\n"
          ]
        }
      ]
    },
    {
      "cell_type": "code",
      "source": [],
      "metadata": {
        "id": "CGSCgjY91ndz"
      },
      "execution_count": 11,
      "outputs": []
    }
  ]
}