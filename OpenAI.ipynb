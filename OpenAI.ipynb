{
 "cells": [
  {
   "cell_type": "markdown",
   "metadata": {
    "colab_type": "text",
    "id": "view-in-github"
   },
   "source": [
    "<a href=\"https://colab.research.google.com/github/rwcitek/openai/blob/main/OpenAI.ipynb\" target=\"_parent\"><img src=\"https://colab.research.google.com/assets/colab-badge.svg\" alt=\"Open In Colab\"/></a>"
   ]
  },
  {
   "cell_type": "markdown",
   "metadata": {},
   "source": [
    "## Getting Started with OpenAI's API ( e.g. ChatGPT )"
   ]
  },
  {
   "cell_type": "markdown",
   "metadata": {},
   "source": [
    "To start using OpenAI's API you need three things:\n",
    "1. an OpenAI account\n",
    "1. the organization ID\n",
    "1. an API token"
   ]
  },
  {
   "cell_type": "markdown",
   "metadata": {},
   "source": [
    "### Sign in or Login to Your OpenAI account"
   ]
  },
  {
   "cell_type": "markdown",
   "metadata": {},
   "source": [
    "To open an OpenAI account visit the [Overview page]( https://platform.openai.com/overview ) and click either the \"Sign up\" or \"Log in\" button in the upper right corner of the page.  You can use either your Google or Microsoft account, or you can sign up with an e-mail address and password."
   ]
  },
  {
   "cell_type": "markdown",
   "metadata": {},
   "source": [
    "### Organization ID"
   ]
  },
  {
   "cell_type": "markdown",
   "metadata": {},
   "source": [
    "Once you have logged in, visit the [Org-settings page]( https://platform.openai.com/account/org-settings ) to view and copy your organization ID."
   ]
  },
  {
   "cell_type": "markdown",
   "metadata": {},
   "source": [
    "### API token"
   ]
  },
  {
   "cell_type": "markdown",
   "metadata": {},
   "source": [
    "To create an API token ( aka API key ), visit the [API keys page]( https://platform.openai.com/account/api-keys ).  Click \"Create new secret key\", copy the secret key, and store it in your password manager."
   ]
  },
  {
   "cell_type": "markdown",
   "metadata": {},
   "source": [
    "You now have all the information you need to run the remaining code cells in this notebook."
   ]
  },
  {
   "cell_type": "markdown",
   "metadata": {
    "id": "pNZ5OaDPtxgQ"
   },
   "source": [
    "## Install openai Module"
   ]
  },
  {
   "cell_type": "code",
   "execution_count": 1,
   "metadata": {
    "id": "UzWPlsRGuUa-"
   },
   "outputs": [],
   "source": [
    "%%capture output\n",
    "!pip install openai\n"
   ]
  },
  {
   "cell_type": "code",
   "execution_count": 2,
   "metadata": {
    "id": "F196nqR_ucwQ"
   },
   "outputs": [],
   "source": [
    "import openai\n",
    "import getpass\n"
   ]
  },
  {
   "cell_type": "markdown",
   "metadata": {
    "id": "w74r0NINtzeF"
   },
   "source": [
    "## Capture Organization"
   ]
  },
  {
   "cell_type": "code",
   "execution_count": 3,
   "metadata": {
    "colab": {
     "base_uri": "https://localhost:8080/"
    },
    "id": "snla5h8Jukxz",
    "outputId": "6df019f7-204c-4864-8928-a497797d144d"
   },
   "outputs": [
    {
     "name": "stdout",
     "output_type": "stream",
     "text": [
      "Enter your OpenAI organization ID: ··········\n"
     ]
    }
   ],
   "source": [
    "oai_organization = getpass.getpass(\"Enter your OpenAI organization ID: \")\n"
   ]
  },
  {
   "cell_type": "code",
   "execution_count": 4,
   "metadata": {
    "colab": {
     "base_uri": "https://localhost:8080/",
     "height": 37
    },
    "id": "tmMIpPX9vgRr",
    "outputId": "80f324c2-39ea-4e7b-e0f6-c0795f0eb4cc"
   },
   "outputs": [
    {
     "data": {
      "application/vnd.google.colaboratory.intrinsic+json": {
       "type": "string"
      },
      "text/plain": [
       "'org- ... ReOE'"
      ]
     },
     "execution_count": 4,
     "metadata": {},
     "output_type": "execute_result"
    }
   ],
   "source": [
    "f\"{oai_organization[:4]} ... {oai_organization[-4:]}\"\n"
   ]
  },
  {
   "cell_type": "markdown",
   "metadata": {
    "id": "7jm9xaEXtw_O"
   },
   "source": [
    "# Capture OpenAI API Token"
   ]
  },
  {
   "cell_type": "code",
   "execution_count": 5,
   "metadata": {
    "colab": {
     "base_uri": "https://localhost:8080/"
    },
    "id": "EJaRBXQdqG3f",
    "outputId": "796f58f9-8762-479b-8981-bddf6ae3ca5b"
   },
   "outputs": [
    {
     "name": "stdout",
     "output_type": "stream",
     "text": [
      "Enter your OpenAI API token: ··········\n"
     ]
    }
   ],
   "source": [
    "oai_token = getpass.getpass(\"Enter your OpenAI API token: \")\n"
   ]
  },
  {
   "cell_type": "code",
   "execution_count": 6,
   "metadata": {
    "colab": {
     "base_uri": "https://localhost:8080/",
     "height": 37
    },
    "id": "9GPF_HFZu9OW",
    "outputId": "6df92cf0-11a9-4a2a-d27a-1718a2201d08"
   },
   "outputs": [
    {
     "data": {
      "application/vnd.google.colaboratory.intrinsic+json": {
       "type": "string"
      },
      "text/plain": [
       "'sk-O ... Ewji'"
      ]
     },
     "execution_count": 6,
     "metadata": {},
     "output_type": "execute_result"
    }
   ],
   "source": [
    "f\"{oai_token[:4]} ... {oai_token[-4:]}\"\n"
   ]
  },
  {
   "cell_type": "markdown",
   "metadata": {
    "id": "kwngngSfvxsQ"
   },
   "source": [
    "## Send API request for models"
   ]
  },
  {
   "cell_type": "code",
   "execution_count": 7,
   "metadata": {
    "id": "dxFs8PTHvutS"
   },
   "outputs": [],
   "source": [
    "openai.organization = oai_organization\n",
    "openai.api_key = oai_token\n",
    "oai_models = openai.Model.list()\n"
   ]
  },
  {
   "cell_type": "code",
   "execution_count": 8,
   "metadata": {
    "colab": {
     "base_uri": "https://localhost:8080/"
    },
    "id": "XP02o1K2yUYD",
    "outputId": "42d92d2d-f6c7-4da0-a962-fe62a63e8082"
   },
   "outputs": [
    {
     "data": {
      "text/plain": [
       "['gpt-3.5-turbo-0301', 'gpt-3.5-turbo']"
      ]
     },
     "execution_count": 8,
     "metadata": {},
     "output_type": "execute_result"
    }
   ],
   "source": [
    "[ data[\"id\"] for data in oai_models[\"data\"] if \"gpt\" in data[\"id\"] ]\n"
   ]
  },
  {
   "cell_type": "markdown",
   "metadata": {
    "id": "H-Hsn8-BzXb_"
   },
   "source": [
    "## Send a message to GPT-3.5-turbo ( Completions )"
   ]
  },
  {
   "cell_type": "code",
   "execution_count": 9,
   "metadata": {
    "colab": {
     "base_uri": "https://localhost:8080/"
    },
    "id": "zGn9uMs5xmPh",
    "outputId": "6c1fc71e-a7e6-45a3-ba47-925040912c5c"
   },
   "outputs": [
    {
     "name": "stdout",
     "output_type": "stream",
     "text": [
      "Hello! How can I assist you today?\n"
     ]
    }
   ],
   "source": [
    "completion = openai.ChatCompletion.create(\n",
    "  model=\"gpt-3.5-turbo\",\n",
    "  messages=[\n",
    "    {\"role\": \"user\", \"content\": \"Hello!\"}\n",
    "  ]\n",
    ")\n",
    "\n",
    "print(completion.choices[0].message[\"content\"])\n"
   ]
  },
  {
   "cell_type": "code",
   "execution_count": 10,
   "metadata": {
    "id": "oD3ixKCTzduv"
   },
   "outputs": [],
   "source": [
    "completion = openai.ChatCompletion.create(\n",
    "  model=\"gpt-3.5-turbo\",\n",
    "  messages=[\n",
    "    {\"role\": \"user\", \"content\": \"What is the meaning of life?\"}\n",
    "  ]\n",
    ")\n"
   ]
  },
  {
   "cell_type": "code",
   "execution_count": 11,
   "metadata": {
    "colab": {
     "base_uri": "https://localhost:8080/"
    },
    "id": "YR8d-9tc135M",
    "outputId": "3e55aa45-21e2-41a2-e072-9ff49e6fe877"
   },
   "outputs": [
    {
     "name": "stdout",
     "output_type": "stream",
     "text": [
      " As an AI language model, I don't have personal beliefs and values, but generally,\n",
      " the meaning of life is a philosophical and existential question that has been debated\n",
      " by scholars, thinkers, and individuals throughout history. There are various perspectives,\n",
      " including religious, spiritual, scientific, and philosophical that offer different\n",
      " answers to this question. Some believe that the meaning of life is to seek happiness\n",
      " and pleasure, while others view it as fulfilling a specific purpose or calling. Additionally,\n",
      " some believe that the meaning of life is subjective and can be determined by each\n",
      " individual person. Ultimately, the meaning of life remains a complex and multi-dimensional\n",
      " concept that may vary depending on one's beliefs, values, and cultural background.\n",
      "\n"
     ]
    }
   ],
   "source": [
    "line = \"\"\n",
    "for token in completion.choices[0].message[\"content\"].split():\n",
    "  line = \" \".join([line,token])\n",
    "  if len(line) > 80:\n",
    "    print(line)\n",
    "    line = \"\"\n",
    "print(line)\n"
   ]
  }
 ],
 "metadata": {
  "colab": {
   "authorship_tag": "ABX9TyNQhOOAOoeGbcEHoOdcsxvD",
   "include_colab_link": true,
   "provenance": []
  },
  "kernelspec": {
   "display_name": "Python 3 (ipykernel)",
   "language": "python",
   "name": "python3"
  },
  "language_info": {
   "codemirror_mode": {
    "name": "ipython",
    "version": 3
   },
   "file_extension": ".py",
   "mimetype": "text/x-python",
   "name": "python",
   "nbconvert_exporter": "python",
   "pygments_lexer": "ipython3",
   "version": "3.10.9"
  }
 },
 "nbformat": 4,
 "nbformat_minor": 4
}
